{
  "nbformat": 4,
  "nbformat_minor": 0,
  "metadata": {
    "colab": {
      "provenance": []
    },
    "kernelspec": {
      "name": "python3",
      "display_name": "Python 3"
    },
    "language_info": {
      "name": "python"
    }
  },
  "cells": [
    {
      "cell_type": "code",
      "execution_count": 55,
      "metadata": {
        "colab": {
          "base_uri": "https://localhost:8080/"
        },
        "id": "nxKolea2LNiW",
        "outputId": "96142d98-e3d6-47b1-c3de-b0cb93f4e8ed"
      },
      "outputs": [
        {
          "output_type": "stream",
          "name": "stdout",
          "text": [
            "Use summarize() and input number between 5 and 15!\n"
          ]
        }
      ],
      "source": [
        "import numpy as np\n",
        "\n",
        "print(\"Use summarize() and input number between 5 and 15!\")\n",
        "def summarize(randomnum):\n",
        "  generatedlist = []\n",
        "  if 5 <= randomnum <= 15:\n",
        "    for i in range(randomnum):\n",
        "      generatedlist.append(np.random.randint(10,50))\n",
        "    generatedsum = sum(generatedlist)\n",
        "\n",
        "    print('The elements of the list are: {}'.format(generatedlist))\n",
        "    print('The sum of the list is {}'.format(generatedsum))\n",
        "  else:\n",
        "    print(\"Input not valid!\")"
      ]
    },
    {
      "cell_type": "code",
      "source": [
        "summarize(10)"
      ],
      "metadata": {
        "colab": {
          "base_uri": "https://localhost:8080/"
        },
        "id": "TaE8audWUt8W",
        "outputId": "9ff4c243-9dc6-4fc2-b42c-84a0dd7ca0b0"
      },
      "execution_count": 57,
      "outputs": [
        {
          "output_type": "stream",
          "name": "stdout",
          "text": [
            "The elements of the list are: [10, 27, 23, 20, 44, 21, 24, 24, 24, 39]\n",
            "The sum of the list is 256\n"
          ]
        }
      ]
    }
  ]
}